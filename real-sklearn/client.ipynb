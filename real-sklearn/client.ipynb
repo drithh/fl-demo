{
 "cells": [
  {
   "cell_type": "code",
   "execution_count": 8,
   "metadata": {},
   "outputs": [],
   "source": [
    "# https://www.kaggle.com/code/kaanboke/beginner-friendly-end-to-end-ml-project-enjoy\n",
    "\n",
    "import warnings\n",
    "\n",
    "import flwr as fl\n",
    "\n",
    "import logging\n",
    "\n",
    "logger = logging.getLogger('flwr')\n",
    "\n",
    "NUM_CLIENT = 1\n",
    "CLIENT_INDEX = 5"
   ]
  },
  {
   "cell_type": "code",
   "execution_count": 9,
   "metadata": {},
   "outputs": [],
   "source": [
    "from datasets import load_dataset\n",
    "from flwr_datasets.partitioner import IidPartitioner\n",
    "from sklearn.compose import ColumnTransformer\n",
    "\n",
    "from sklearn.impute import SimpleImputer\n",
    "from sklearn.preprocessing import OneHotEncoder, PowerTransformer\n",
    "import pandas as pd\n",
    "from sklearn.model_selection import train_test_split\n",
    "\n",
    "def load_data ():\n",
    "    data_files = [\"./stroke-prediction-dataset/healthcare-dataset-stroke-data.csv\"]\n",
    "    dataset = load_dataset(\"csv\", data_files=data_files)\n",
    "\n",
    "    partitioner = IidPartitioner(num_partitions=NUM_CLIENT)\n",
    "    partitioner.dataset = dataset['train']\n",
    "\n",
    "    partition = partitioner.load_partition(partition_id=CLIENT_INDEX)\n",
    "    partition = partition.to_pandas()\n",
    "    \n",
    "    partition = partition.drop('id', axis=1)\n",
    "    \n",
    "    categorical = [ 'hypertension', 'heart_disease', 'ever_married','work_type', 'Residence_type', 'smoking_status']\n",
    "    numerical = ['avg_glucose_level', 'bmi','age']\n",
    "    \n",
    "    y= partition['stroke']\n",
    "    X = partition.drop('stroke', axis=1)\n",
    "    \n",
    "    X_train, X_test, y_train, y_test = train_test_split(X, y, test_size=0.1, random_state=42)\n",
    "\n",
    "    transformer = ColumnTransformer(\n",
    "        transformers=[\n",
    "            ('imp', SimpleImputer(strategy='median'), numerical),\n",
    "            ('ohe', OneHotEncoder(), categorical)\n",
    "        ]\n",
    "    )\n",
    "\n",
    "\n",
    "    # Apply the ColumnTransformer to the training data\n",
    "    X_train_transformed = transformer.fit_transform(X_train)\n",
    "    X_test_transformed = transformer.transform(X_test)\n",
    "\n",
    "    # Apply the PowerTransformer to the numerical features in the training data\n",
    "    power_transformer = PowerTransformer(method='yeo-johnson', standardize=True)\n",
    "    X_train_transformed[:, :len(numerical)] = power_transformer.fit_transform(X_train_transformed[:, :len(numerical)])\n",
    "    X_test_transformed[:, :len(numerical)] = power_transformer.transform(X_test_transformed[:, :len(numerical)])\n",
    "\n",
    "    return X_train_transformed, y_train, X_test_transformed, y_test"
   ]
  },
  {
   "cell_type": "code",
   "execution_count": 10,
   "metadata": {},
   "outputs": [],
   "source": [
    "import numpy as np\n",
    "from sklearn.linear_model import LogisticRegression\n",
    "\n",
    "from flwr.common import NDArrays\n",
    "\n",
    "\n",
    "def get_model_parameters(model: LogisticRegression) -> NDArrays:\n",
    "    \"\"\"Returns the parameters of a sklearn LogisticRegression model.\"\"\"\n",
    "    if model.fit_intercept:\n",
    "        params = [\n",
    "            model.coef_,\n",
    "            model.intercept_,\n",
    "        ]\n",
    "    else:\n",
    "        params = [\n",
    "            model.coef_,\n",
    "        ]\n",
    "    return params\n",
    "\n",
    "\n",
    "def set_model_params(model: LogisticRegression, params: NDArrays) -> LogisticRegression:\n",
    "    \"\"\"Sets the parameters of a sklean LogisticRegression model.\"\"\"\n",
    "    model.coef_ = params[0]\n",
    "    if model.fit_intercept:\n",
    "        model.intercept_ = params[1]\n",
    "    return model\n",
    "\n",
    "\n",
    "def set_initial_params(model: LogisticRegression):\n",
    "    \"\"\"Sets initial parameters as zeros Required since model params are uninitialized\n",
    "    until model.fit is called.\n",
    "\n",
    "    But server asks for initial parameters from clients at launch. Refer to\n",
    "    sklearn.linear_model.LogisticRegression documentation for more information.\n",
    "    \"\"\"\n",
    "    n_classes = 2  # Number of classes in dataset\n",
    "    n_features = 20  # Number of features in dataset\n",
    "    model.classes_ = np.array([i for i in range(n_classes)])\n",
    "\n",
    "    model.coef_ = np.zeros((n_classes, n_features))\n",
    "    if model.fit_intercept:\n",
    "        model.intercept_ = np.zeros((n_classes,))"
   ]
  },
  {
   "cell_type": "code",
   "execution_count": 11,
   "metadata": {},
   "outputs": [],
   "source": [
    "model = LogisticRegression(\n",
    "    # penalty=\"l2\",\n",
    "    solver=\"liblinear\"\n",
    "    # max_iter=1,  # local epoch\n",
    "    # warm_start=True,  # prevent refreshing weights when fitting\n",
    ")\n",
    "\n",
    "set_initial_params(model)\n",
    "X_train, y_train, X_test, y_test = load_data()"
   ]
  },
  {
   "cell_type": "code",
   "execution_count": 11,
   "metadata": {},
   "outputs": [],
   "source": [
    "from sklearn.metrics import log_loss\n",
    "\n",
    "class SklearnClient(fl.client.NumPyClient):\n",
    "    def get_parameters(self, config):  # type: ignore\n",
    "        return get_model_parameters(model)\n",
    "\n",
    "    def fit(self, parameters, config):  # type: ignore\n",
    "        set_model_params(model, parameters)\n",
    "        with warnings.catch_warnings():\n",
    "            warnings.simplefilter(\"ignore\")\n",
    "            model.fit(X_train, y_train)\n",
    "        return get_model_parameters(model), len(X_train), {}\n",
    "\n",
    "    def evaluate(self, parameters, config):  # type: ignore\n",
    "        set_model_params(model, parameters)\n",
    "        loss = log_loss(y_test, model.predict_proba(X_test))\n",
    "        accuracy = model.score(X_test, y_test)\n",
    "        return loss, len(X_test), {\"accuracy\": accuracy}"
   ]
  },
  {
   "cell_type": "code",
   "execution_count": 12,
   "metadata": {},
   "outputs": [
    {
     "name": "stderr",
     "output_type": "stream",
     "text": [
      "\u001b[92mINFO \u001b[0m:      \n",
      "\u001b[92mINFO \u001b[0m:      Received: get_parameters message 3bd8852a-c910-4327-bce8-3140949f9a4e\n",
      "\u001b[92mINFO \u001b[0m:      Sent reply\n",
      "\u001b[92mINFO \u001b[0m:      \n",
      "\u001b[92mINFO \u001b[0m:      Received: train message 59f1b00f-dd6f-4f38-b7fa-3493ceb8b057\n",
      "\u001b[92mINFO \u001b[0m:      Sent reply\n",
      "\u001b[92mINFO \u001b[0m:      \n",
      "\u001b[92mINFO \u001b[0m:      Received: evaluate message 3f5666f4-bd6d-40a7-9297-de4808ded61f\n",
      "\u001b[92mINFO \u001b[0m:      Sent reply\n",
      "\u001b[92mINFO \u001b[0m:      \n",
      "\u001b[92mINFO \u001b[0m:      Received: train message f043ac79-65c0-4968-9782-ee7d8c469a55\n",
      "\u001b[92mINFO \u001b[0m:      Sent reply\n",
      "\u001b[92mINFO \u001b[0m:      \n",
      "\u001b[92mINFO \u001b[0m:      Received: evaluate message fb8dd54b-ad04-41e0-803a-a59bd944b071\n",
      "\u001b[92mINFO \u001b[0m:      Sent reply\n"
     ]
    },
    {
     "name": "stdout",
     "output_type": "stream",
     "text": [
      "Loss: 0.1765543232216287, Accuracy: 0.9452054794520548\n",
      "Loss: 0.1765543232216287, Accuracy: 0.9452054794520548\n"
     ]
    },
    {
     "name": "stderr",
     "output_type": "stream",
     "text": [
      "\u001b[92mINFO \u001b[0m:      \n",
      "\u001b[92mINFO \u001b[0m:      Received: train message f195a493-0efa-4a36-afac-9af351d7c6e4\n",
      "\u001b[92mINFO \u001b[0m:      Sent reply\n",
      "\u001b[92mINFO \u001b[0m:      \n",
      "\u001b[92mINFO \u001b[0m:      Received: evaluate message c0c705ce-8e3c-458e-a2f5-a4515691cc70\n",
      "\u001b[92mINFO \u001b[0m:      Sent reply\n",
      "\u001b[92mINFO \u001b[0m:      \n",
      "\u001b[92mINFO \u001b[0m:      Received: train message b699350a-cdeb-41cb-8b23-80171f0bd419\n",
      "\u001b[92mINFO \u001b[0m:      Sent reply\n",
      "\u001b[92mINFO \u001b[0m:      \n",
      "\u001b[92mINFO \u001b[0m:      Received: evaluate message 25e20799-7735-4647-bb89-cc0f046e7016\n",
      "\u001b[92mINFO \u001b[0m:      Sent reply\n"
     ]
    },
    {
     "name": "stdout",
     "output_type": "stream",
     "text": [
      "Loss: 0.1765543232216287, Accuracy: 0.9452054794520548\n",
      "Loss: 0.1765543232216287, Accuracy: 0.9452054794520548\n"
     ]
    },
    {
     "name": "stderr",
     "output_type": "stream",
     "text": [
      "\u001b[92mINFO \u001b[0m:      \n",
      "\u001b[92mINFO \u001b[0m:      Received: train message 82cdaec3-ab3c-4cdb-8226-71054790750e\n",
      "\u001b[92mINFO \u001b[0m:      Sent reply\n",
      "\u001b[92mINFO \u001b[0m:      \n",
      "\u001b[92mINFO \u001b[0m:      Received: evaluate message 790e6e3c-ec7d-48b8-abff-46be60970194\n",
      "\u001b[92mINFO \u001b[0m:      Sent reply\n",
      "\u001b[92mINFO \u001b[0m:      \n",
      "\u001b[92mINFO \u001b[0m:      Received: train message cdd0fe58-2848-4188-bb6a-a6aeba92efd5\n",
      "\u001b[92mINFO \u001b[0m:      Sent reply\n",
      "\u001b[92mINFO \u001b[0m:      \n",
      "\u001b[92mINFO \u001b[0m:      Received: evaluate message fe22d854-bb54-4080-9b47-92bcc6eb53d3\n",
      "\u001b[92mINFO \u001b[0m:      Sent reply\n"
     ]
    },
    {
     "name": "stdout",
     "output_type": "stream",
     "text": [
      "Loss: 0.1765543232216287, Accuracy: 0.9452054794520548\n",
      "Loss: 0.1765543232216287, Accuracy: 0.9452054794520548\n"
     ]
    },
    {
     "name": "stderr",
     "output_type": "stream",
     "text": [
      "\u001b[92mINFO \u001b[0m:      \n",
      "\u001b[92mINFO \u001b[0m:      Received: train message 185ccec9-adc5-4f85-b4a3-a7dca1008d5c\n",
      "\u001b[92mINFO \u001b[0m:      Sent reply\n",
      "\u001b[92mINFO \u001b[0m:      \n",
      "\u001b[92mINFO \u001b[0m:      Received: evaluate message 7b070855-6569-4d9c-b424-a737a4325b2c\n",
      "\u001b[92mINFO \u001b[0m:      Sent reply\n",
      "\u001b[92mINFO \u001b[0m:      \n",
      "\u001b[92mINFO \u001b[0m:      Received: train message fcd573a8-144f-4069-80e9-f6318adb5537\n",
      "\u001b[92mINFO \u001b[0m:      Sent reply\n"
     ]
    },
    {
     "name": "stdout",
     "output_type": "stream",
     "text": [
      "Loss: 0.1765543232216287, Accuracy: 0.9452054794520548\n",
      "Loss: 0.1765543232216287, Accuracy: 0.9452054794520548\n"
     ]
    },
    {
     "name": "stderr",
     "output_type": "stream",
     "text": [
      "\u001b[92mINFO \u001b[0m:      \n",
      "\u001b[92mINFO \u001b[0m:      Received: evaluate message 8572c3a5-a3c9-4723-aaf8-0917d771fea4\n",
      "\u001b[92mINFO \u001b[0m:      Sent reply\n",
      "\u001b[92mINFO \u001b[0m:      \n",
      "\u001b[92mINFO \u001b[0m:      Received: train message 9ec1d03d-9093-4d28-b688-488f77ba755f\n",
      "\u001b[92mINFO \u001b[0m:      Sent reply\n",
      "\u001b[92mINFO \u001b[0m:      \n",
      "\u001b[92mINFO \u001b[0m:      Received: evaluate message ff51505c-c0da-46ae-8d2e-b9c2bbecded5\n",
      "\u001b[92mINFO \u001b[0m:      Sent reply\n",
      "\u001b[92mINFO \u001b[0m:      \n",
      "\u001b[92mINFO \u001b[0m:      Received: train message 461cc422-a0de-4838-b77d-9829cdf3730a\n",
      "\u001b[92mINFO \u001b[0m:      Sent reply\n",
      "\u001b[92mINFO \u001b[0m:      \n",
      "\u001b[92mINFO \u001b[0m:      Received: evaluate message 34dda1e2-c9dc-4ef6-bf93-0088a6fc9c08\n",
      "\u001b[92mINFO \u001b[0m:      Sent reply\n"
     ]
    },
    {
     "name": "stdout",
     "output_type": "stream",
     "text": [
      "Loss: 0.1765543232216287, Accuracy: 0.9452054794520548\n",
      "Loss: 0.1765543232216287, Accuracy: 0.9452054794520548\n"
     ]
    },
    {
     "name": "stderr",
     "output_type": "stream",
     "text": [
      "\u001b[92mINFO \u001b[0m:      \n",
      "\u001b[92mINFO \u001b[0m:      Received: reconnect message 2b66cff9-6523-48bb-98c3-3a9ad28bfdce\n",
      "\u001b[92mINFO \u001b[0m:      Disconnect and shut down\n"
     ]
    }
   ],
   "source": [
    "# fl.client.start_client(server_address=\"20.198.223.216:8000\", client=SklearnClient().to_client())\n",
    "fl.client.start_client(server_address=\"20.198.223.216:8000\", client=SklearnClient().to_client())"
   ]
  }
 ],
 "metadata": {
  "kernelspec": {
   "display_name": "3.11.9",
   "language": "python",
   "name": "python3"
  },
  "language_info": {
   "codemirror_mode": {
    "name": "ipython",
    "version": 3
   },
   "file_extension": ".py",
   "mimetype": "text/x-python",
   "name": "python",
   "nbconvert_exporter": "python",
   "pygments_lexer": "ipython3",
   "version": "3.11.9"
  }
 },
 "nbformat": 4,
 "nbformat_minor": 2
}
