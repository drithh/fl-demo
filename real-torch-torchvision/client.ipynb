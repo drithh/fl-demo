{
 "cells": [
  {
   "cell_type": "code",
   "execution_count": 1,
   "metadata": {},
   "outputs": [
    {
     "name": "stderr",
     "output_type": "stream",
     "text": [
      "c:\\Users\\drith\\miniconda3\\envs\\3.11.9\\Lib\\site-packages\\tqdm\\auto.py:21: TqdmWarning: IProgress not found. Please update jupyter and ipywidgets. See https://ipywidgets.readthedocs.io/en/stable/user_install.html\n",
      "  from .autonotebook import tqdm as notebook_tqdm\n",
      "2024-08-02 00:18:30,994\tINFO util.py:159 -- Missing packages: ['ipywidgets']. Run `pip install -U ipywidgets`, then restart the notebook server for rich notebook output.\n"
     ]
    }
   ],
   "source": [
    "# from https://flower.ai/docs/framework/tutorial-quickstart-pytorch.html\n",
    "\n",
    "from collections import OrderedDict\n",
    "\n",
    "import torch\n",
    "import torch.nn as nn\n",
    "import torch.nn.functional as F\n",
    "import torchvision.transforms as transforms\n",
    "from torch.utils.data import DataLoader\n",
    "from torchvision.datasets import CIFAR10\n",
    "from torch.utils.data import DataLoader, Subset\n",
    "\n",
    "import flwr as fl\n",
    "\n",
    "DEVICE = torch.device(\"cuda:0\" if torch.cuda.is_available() else \"cpu\")\n",
    "\n",
    "import logging\n",
    "\n",
    "logger = logging.getLogger('flwr')"
   ]
  },
  {
   "cell_type": "code",
   "execution_count": 2,
   "metadata": {},
   "outputs": [],
   "source": [
    "import time\n",
    "\n",
    "\n",
    "NUM_CLIENT = 5\n",
    "CLIENT_INDEX = 0\n",
    "\n",
    "def load_data():\n",
    "    \"\"\"Load CIFAR-10 (training and test set).\"\"\"\n",
    "    transform = transforms.Compose(\n",
    "        [transforms.ToTensor(), transforms.Normalize((0.5, 0.5, 0.5), (0.5, 0.5, 0.5))]\n",
    "    )\n",
    "\n",
    "    # Load the entire CIFAR-10 dataset\n",
    "    full_trainset = CIFAR10(\"../data/cifar10-torchvision\", train=True, download=True, transform=transform)\n",
    "    full_testset = CIFAR10(\"../data/cifar10-torchvision\", train=False, download=True, transform=transform)\n",
    "\n",
    "    def get_client_data(dataset, client_index, batch_size=32, shuffle=True):\n",
    "        if 0 <= client_index < NUM_CLIENT:\n",
    "            indices = list(range(len(dataset)))\n",
    "            client_size = len(dataset) // NUM_CLIENT\n",
    "            start_idx = client_index * client_size\n",
    "            end_idx = start_idx + client_size\n",
    "            client_indices = indices[start_idx:end_idx]\n",
    "            client = Subset(dataset, client_indices)\n",
    "            return DataLoader(client, batch_size=batch_size, shuffle=shuffle), len(client)\n",
    "        else:\n",
    "            logger.error(f\"Client index {client_index} is out of bounds. It should be between 0 and {NUM_CLIENT - 1}.\")\n",
    "            raise ValueError(f\"Client index {client_index} is out of bounds. It should be between 0 and {NUM_CLIENT - 1}.\")\n",
    "\n",
    "    trainloader, len_trainset = get_client_data(full_trainset, client_index=CLIENT_INDEX)\n",
    "    testloader, len_testset = get_client_data(full_testset, client_index=CLIENT_INDEX)\n",
    "    num_examples = {\"trainset\" : len_trainset, \"testset\" : len_testset}\n",
    "    \n",
    "    return trainloader, testloader, num_examples\n",
    "    \n",
    "\n",
    "def train(net, trainloader, epochs):\n",
    "    start_time = time.time()\n",
    "    \"\"\"Train the network on the training set.\"\"\"\n",
    "    criterion = torch.nn.CrossEntropyLoss()\n",
    "    optimizer = torch.optim.SGD(net.parameters(), lr=0.001, momentum=0.9)\n",
    "    for _ in range(epochs):\n",
    "        for images, labels in trainloader:\n",
    "            images, labels = images.to(DEVICE), labels.to(DEVICE)\n",
    "            optimizer.zero_grad()\n",
    "            loss = criterion(net(images), labels)\n",
    "            loss.backward()\n",
    "            optimizer.step()\n",
    "    end_time = time.time()\n",
    "    total_duration = end_time - start_time\n",
    "    logger.info(f\"Training completed in {total_duration:.2f} seconds\")\n",
    "            \n",
    "def test(net, testloader):\n",
    "    start_time = time.time()\n",
    "    \"\"\"Validate the network on the entire test set.\"\"\"\n",
    "    criterion = torch.nn.CrossEntropyLoss()\n",
    "    correct, total, loss = 0, 0, 0.0\n",
    "    with torch.no_grad():\n",
    "        for data in testloader:\n",
    "            images, labels = data[0].to(DEVICE), data[1].to(DEVICE)\n",
    "            outputs = net(images)\n",
    "            loss += criterion(outputs, labels).item()\n",
    "            _, predicted = torch.max(outputs.data, 1)\n",
    "            total += labels.size(0)\n",
    "            correct += (predicted == labels).sum().item()\n",
    "    accuracy = correct / total\n",
    "    \n",
    "    end_time = time.time()\n",
    "    total_duration = end_time - start_time\n",
    "    logger.info(f\"Testing completed in {total_duration:.2f} seconds, accuracy: {accuracy:.2f}\")\n",
    "    return loss, accuracy"
   ]
  },
  {
   "cell_type": "code",
   "execution_count": 3,
   "metadata": {},
   "outputs": [
    {
     "name": "stdout",
     "output_type": "stream",
     "text": [
      "Files already downloaded and verified\n",
      "Files already downloaded and verified\n"
     ]
    }
   ],
   "source": [
    "# ‘PyTorch: A 60 Minute Blitz’:\n",
    "class Net(nn.Module):\n",
    "    def __init__(self) -> None:\n",
    "        super(Net, self).__init__()\n",
    "        self.conv1 = nn.Conv2d(3, 6, 5)\n",
    "        self.pool = nn.MaxPool2d(2, 2)\n",
    "        self.conv2 = nn.Conv2d(6, 16, 5)\n",
    "        self.fc1 = nn.Linear(16 * 5 * 5, 120)\n",
    "        self.fc2 = nn.Linear(120, 84)\n",
    "        self.fc3 = nn.Linear(84, 10)\n",
    "\n",
    "    def forward(self, x: torch.Tensor) -> torch.Tensor:\n",
    "        x = self.pool(F.relu(self.conv1(x)))\n",
    "        x = self.pool(F.relu(self.conv2(x)))\n",
    "        x = x.view(-1, 16 * 5 * 5)\n",
    "        x = F.relu(self.fc1(x))\n",
    "        x = F.relu(self.fc2(x))\n",
    "        x = self.fc3(x)\n",
    "        return x\n",
    "\n",
    "# Load model and data\n",
    "net = Net().to(DEVICE)\n",
    "trainloader, testloader, num_examples = load_data()"
   ]
  },
  {
   "cell_type": "code",
   "execution_count": 4,
   "metadata": {},
   "outputs": [],
   "source": [
    "class CifarClient(fl.client.NumPyClient):\n",
    "    def get_parameters(self, config):\n",
    "        return [val.cpu().numpy() for _, val in net.state_dict().items()]\n",
    "\n",
    "    def set_parameters(self, parameters):\n",
    "        params_dict = zip(net.state_dict().keys(), parameters)\n",
    "        state_dict = OrderedDict({k: torch.tensor(v) for k, v in params_dict})\n",
    "        net.load_state_dict(state_dict, strict=True)\n",
    "\n",
    "    def fit(self, parameters, config):\n",
    "        self.set_parameters(parameters)\n",
    "        train(net, trainloader, epochs=1)\n",
    "        return self.get_parameters(config={}), num_examples[\"trainset\"], {}\n",
    "\n",
    "    def evaluate(self, parameters, config):\n",
    "        self.set_parameters(parameters)\n",
    "        loss, accuracy = test(net, testloader)\n",
    "        return float(loss), num_examples[\"testset\"], {\"accuracy\": float(accuracy)}"
   ]
  },
  {
   "cell_type": "code",
   "execution_count": 5,
   "metadata": {},
   "outputs": [
    {
     "name": "stderr",
     "output_type": "stream",
     "text": [
      "\u001b[92mINFO \u001b[0m:      \n",
      "\u001b[92mINFO \u001b[0m:      Received: train message 1c81f63e-0649-4d0c-a38b-5a40ce97a800\n",
      "\u001b[92mINFO \u001b[0m:      Training completed in 4.12 seconds\n",
      "\u001b[92mINFO \u001b[0m:      Sent reply\n",
      "\u001b[92mINFO \u001b[0m:      \n",
      "\u001b[92mINFO \u001b[0m:      Received: evaluate message 84a6f454-6e85-42e3-b1d4-a8ba53f22750\n",
      "\u001b[92mINFO \u001b[0m:      Testing completed in 0.60 seconds, accuracy: 0.35\n",
      "\u001b[92mINFO \u001b[0m:      Sent reply\n",
      "\u001b[92mINFO \u001b[0m:      \n",
      "\u001b[92mINFO \u001b[0m:      Received: train message 3939b51d-2161-40d0-bb23-17f286399dce\n",
      "\u001b[92mINFO \u001b[0m:      Training completed in 4.06 seconds\n",
      "\u001b[92mINFO \u001b[0m:      Sent reply\n",
      "\u001b[92mINFO \u001b[0m:      \n",
      "\u001b[92mINFO \u001b[0m:      Received: evaluate message c32d11a4-d156-401b-8146-6e056e67214f\n",
      "\u001b[92mINFO \u001b[0m:      Testing completed in 0.64 seconds, accuracy: 0.36\n",
      "\u001b[92mINFO \u001b[0m:      Sent reply\n",
      "\u001b[92mINFO \u001b[0m:      \n",
      "\u001b[92mINFO \u001b[0m:      Received: train message 6062d3ac-9f9a-4bdb-811f-3484ca5f90db\n",
      "\u001b[92mINFO \u001b[0m:      Training completed in 4.00 seconds\n",
      "\u001b[92mINFO \u001b[0m:      Sent reply\n",
      "\u001b[92mINFO \u001b[0m:      \n",
      "\u001b[92mINFO \u001b[0m:      Received: evaluate message ee4fb54d-6adf-4d01-8447-fb63fa76ce41\n",
      "\u001b[92mINFO \u001b[0m:      Testing completed in 0.58 seconds, accuracy: 0.39\n",
      "\u001b[92mINFO \u001b[0m:      Sent reply\n",
      "\u001b[92mINFO \u001b[0m:      \n",
      "\u001b[92mINFO \u001b[0m:      Received: reconnect message 0083d24d-e315-4453-b5dd-f645d5377f5b\n",
      "\u001b[92mINFO \u001b[0m:      Disconnect and shut down\n"
     ]
    },
    {
     "ename": "",
     "evalue": "",
     "output_type": "error",
     "traceback": [
      "\u001b[1;31mThe Kernel crashed while executing code in the current cell or a previous cell. \n",
      "\u001b[1;31mPlease review the code in the cell(s) to identify a possible cause of the failure. \n",
      "\u001b[1;31mClick <a href='https://aka.ms/vscodeJupyterKernelCrash'>here</a> for more info. \n",
      "\u001b[1;31mView Jupyter <a href='command:jupyter.viewOutput'>log</a> for further details."
     ]
    }
   ],
   "source": [
    "fl.client.start_client(server_address=\"127.0.0.1:8000\", client=CifarClient().to_client())"
   ]
  }
 ],
 "metadata": {
  "kernelspec": {
   "display_name": "3.11.9",
   "language": "python",
   "name": "python3"
  },
  "language_info": {
   "codemirror_mode": {
    "name": "ipython",
    "version": 3
   },
   "file_extension": ".py",
   "mimetype": "text/x-python",
   "name": "python",
   "nbconvert_exporter": "python",
   "pygments_lexer": "ipython3",
   "version": "3.11.9"
  }
 },
 "nbformat": 4,
 "nbformat_minor": 2
}
