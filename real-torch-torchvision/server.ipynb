{
  "cells": [
    {
      "cell_type": "code",
      "execution_count": 1,
      "metadata": {},
      "outputs": [
        {
          "name": "stderr",
          "output_type": "stream",
          "text": [
            "c:\\Users\\drith\\miniconda3\\envs\\3.11.9\\Lib\\site-packages\\tqdm\\auto.py:21: TqdmWarning: IProgress not found. Please update jupyter and ipywidgets. See https://ipywidgets.readthedocs.io/en/stable/user_install.html\n",
            "  from .autonotebook import tqdm as notebook_tqdm\n",
            "2024-08-02 00:13:52,795\tINFO util.py:159 -- Missing packages: ['ipywidgets']. Run `pip install -U ipywidgets`, then restart the notebook server for rich notebook output.\n"
          ]
        }
      ],
      "source": [
        "%load_ext autoreload\n",
        "%autoreload 2\n",
        "\n",
        "\n",
        "from typing import Dict, List\n",
        "import flwr as fl\n",
        "from flwr.common import Scalar\n",
        "from flwr.server.strategy.fedavg import FedAvg\n",
        "from flwr.server import Server\n",
        "from flwr.server.client_manager import SimpleClientManager\n",
        "\n",
        "NUM_CLIENT = 1\n",
        "\n",
        "strategy = FedAvg(\n",
        "    min_available_clients=NUM_CLIENT,\n",
        "    min_fit_clients=NUM_CLIENT,\n",
        "    min_evaluate_clients=NUM_CLIENT,\n",
        ")\n",
        "\n",
        "\n",
        "client_manager = SimpleClientManager()\n",
        "\n",
        "server = Server(client_manager=client_manager, strategy=strategy)\n"
      ]
    },
    {
      "cell_type": "code",
      "execution_count": 2,
      "metadata": {},
      "outputs": [
        {
          "name": "stderr",
          "output_type": "stream",
          "text": [
            "\u001b[92mINFO \u001b[0m:      Starting Flower server, config: num_rounds=10, no round_timeout\n",
            "\u001b[92mINFO \u001b[0m:      Flower ECE: gRPC server running (10 rounds), SSL is disabled\n",
            "\u001b[92mINFO \u001b[0m:      [INIT]\n",
            "\u001b[92mINFO \u001b[0m:      Requesting initial parameters from one random client\n",
            "\u001b[92mINFO \u001b[0m:      Received initial parameters from one random client\n",
            "\u001b[92mINFO \u001b[0m:      Evaluating initial global parameters\n",
            "\u001b[92mINFO \u001b[0m:      \n",
            "\u001b[92mINFO \u001b[0m:      [ROUND 1]\n",
            "\u001b[92mINFO \u001b[0m:      configure_fit: strategy sampled 1 clients (out of 1)\n",
            "\u001b[92mINFO \u001b[0m:      aggregate_fit: received 1 results and 0 failures\n",
            "\u001b[93mWARNING \u001b[0m:   No fit_metrics_aggregation_fn provided\n",
            "\u001b[92mINFO \u001b[0m:      configure_evaluate: strategy sampled 1 clients (out of 1)\n",
            "\u001b[92mINFO \u001b[0m:      aggregate_evaluate: received 1 results and 0 failures\n",
            "\u001b[93mWARNING \u001b[0m:   No evaluate_metrics_aggregation_fn provided\n",
            "\u001b[92mINFO \u001b[0m:      \n",
            "\u001b[92mINFO \u001b[0m:      [ROUND 2]\n",
            "\u001b[92mINFO \u001b[0m:      configure_fit: strategy sampled 1 clients (out of 1)\n",
            "\u001b[92mINFO \u001b[0m:      aggregate_fit: received 1 results and 0 failures\n",
            "\u001b[92mINFO \u001b[0m:      configure_evaluate: strategy sampled 1 clients (out of 1)\n",
            "\u001b[92mINFO \u001b[0m:      aggregate_evaluate: received 1 results and 0 failures\n",
            "\u001b[92mINFO \u001b[0m:      \n",
            "\u001b[92mINFO \u001b[0m:      [ROUND 3]\n",
            "\u001b[92mINFO \u001b[0m:      configure_fit: strategy sampled 1 clients (out of 1)\n",
            "\u001b[92mINFO \u001b[0m:      aggregate_fit: received 1 results and 0 failures\n",
            "\u001b[92mINFO \u001b[0m:      configure_evaluate: strategy sampled 1 clients (out of 1)\n",
            "\u001b[92mINFO \u001b[0m:      aggregate_evaluate: received 1 results and 0 failures\n",
            "\u001b[92mINFO \u001b[0m:      \n",
            "\u001b[92mINFO \u001b[0m:      [ROUND 4]\n",
            "\u001b[92mINFO \u001b[0m:      configure_fit: strategy sampled 1 clients (out of 1)\n",
            "\u001b[92mINFO \u001b[0m:      aggregate_fit: received 1 results and 0 failures\n",
            "\u001b[92mINFO \u001b[0m:      configure_evaluate: strategy sampled 1 clients (out of 1)\n",
            "\u001b[92mINFO \u001b[0m:      aggregate_evaluate: received 1 results and 0 failures\n",
            "\u001b[92mINFO \u001b[0m:      \n",
            "\u001b[92mINFO \u001b[0m:      [ROUND 5]\n",
            "\u001b[92mINFO \u001b[0m:      configure_fit: strategy sampled 1 clients (out of 1)\n",
            "\u001b[92mINFO \u001b[0m:      aggregate_fit: received 1 results and 0 failures\n",
            "\u001b[92mINFO \u001b[0m:      configure_evaluate: strategy sampled 1 clients (out of 1)\n",
            "\u001b[92mINFO \u001b[0m:      aggregate_evaluate: received 1 results and 0 failures\n",
            "\u001b[92mINFO \u001b[0m:      \n",
            "\u001b[92mINFO \u001b[0m:      [ROUND 6]\n",
            "\u001b[92mINFO \u001b[0m:      configure_fit: strategy sampled 1 clients (out of 1)\n",
            "\u001b[92mINFO \u001b[0m:      aggregate_fit: received 1 results and 0 failures\n",
            "\u001b[92mINFO \u001b[0m:      configure_evaluate: strategy sampled 1 clients (out of 1)\n",
            "\u001b[92mINFO \u001b[0m:      aggregate_evaluate: received 1 results and 0 failures\n",
            "\u001b[92mINFO \u001b[0m:      \n",
            "\u001b[92mINFO \u001b[0m:      [ROUND 7]\n",
            "\u001b[92mINFO \u001b[0m:      configure_fit: strategy sampled 1 clients (out of 1)\n",
            "\u001b[92mINFO \u001b[0m:      aggregate_fit: received 1 results and 0 failures\n",
            "\u001b[92mINFO \u001b[0m:      configure_evaluate: strategy sampled 1 clients (out of 1)\n",
            "\u001b[92mINFO \u001b[0m:      aggregate_evaluate: received 0 results and 1 failures\n",
            "\u001b[92mINFO \u001b[0m:      \n",
            "\u001b[92mINFO \u001b[0m:      [ROUND 8]\n",
            "\u001b[92mINFO \u001b[0m:      configure_fit: strategy sampled 1 clients (out of 1)\n",
            "\u001b[92mINFO \u001b[0m:      aggregate_fit: received 1 results and 0 failures\n",
            "\u001b[92mINFO \u001b[0m:      configure_evaluate: strategy sampled 1 clients (out of 1)\n",
            "\u001b[92mINFO \u001b[0m:      aggregate_evaluate: received 1 results and 0 failures\n",
            "\u001b[92mINFO \u001b[0m:      \n",
            "\u001b[92mINFO \u001b[0m:      [ROUND 9]\n",
            "\u001b[92mINFO \u001b[0m:      configure_fit: strategy sampled 1 clients (out of 1)\n",
            "\u001b[92mINFO \u001b[0m:      aggregate_fit: received 1 results and 0 failures\n",
            "\u001b[92mINFO \u001b[0m:      configure_evaluate: strategy sampled 1 clients (out of 1)\n",
            "\u001b[92mINFO \u001b[0m:      aggregate_evaluate: received 1 results and 0 failures\n",
            "\u001b[92mINFO \u001b[0m:      \n",
            "\u001b[92mINFO \u001b[0m:      [ROUND 10]\n",
            "\u001b[92mINFO \u001b[0m:      configure_fit: strategy sampled 1 clients (out of 1)\n",
            "\u001b[92mINFO \u001b[0m:      aggregate_fit: received 1 results and 0 failures\n",
            "\u001b[92mINFO \u001b[0m:      configure_evaluate: strategy sampled 1 clients (out of 1)\n",
            "\u001b[92mINFO \u001b[0m:      aggregate_evaluate: received 1 results and 0 failures\n",
            "\u001b[92mINFO \u001b[0m:      \n",
            "\u001b[92mINFO \u001b[0m:      [SUMMARY]\n",
            "\u001b[92mINFO \u001b[0m:      Run finished 10 round(s) in 242.10s\n",
            "\u001b[92mINFO \u001b[0m:      \tHistory (loss, distributed):\n",
            "\u001b[92mINFO \u001b[0m:      \t\tround 1: 144.96975708007812\n",
            "\u001b[92mINFO \u001b[0m:      \t\tround 2: 144.38998413085938\n",
            "\u001b[92mINFO \u001b[0m:      \t\tround 3: 141.82484436035156\n",
            "\u001b[92mINFO \u001b[0m:      \t\tround 4: 134.082275390625\n",
            "\u001b[92mINFO \u001b[0m:      \t\tround 5: 130.4398651123047\n",
            "\u001b[92mINFO \u001b[0m:      \t\tround 6: 124.31001281738281\n",
            "\u001b[92mINFO \u001b[0m:      \t\tround 8: 114.1265640258789\n",
            "\u001b[92mINFO \u001b[0m:      \t\tround 9: 109.86382293701172\n",
            "\u001b[92mINFO \u001b[0m:      \t\tround 10: 106.38168334960938\n",
            "\u001b[92mINFO \u001b[0m:      \n"
          ]
        },
        {
          "data": {
            "text/plain": [
              "History (loss, distributed):\n",
              "\tround 1: 144.96975708007812\n",
              "\tround 2: 144.38998413085938\n",
              "\tround 3: 141.82484436035156\n",
              "\tround 4: 134.082275390625\n",
              "\tround 5: 130.4398651123047\n",
              "\tround 6: 124.31001281738281\n",
              "\tround 8: 114.1265640258789\n",
              "\tround 9: 109.86382293701172\n",
              "\tround 10: 106.38168334960938"
            ]
          },
          "execution_count": 2,
          "metadata": {},
          "output_type": "execute_result"
        },
        {
          "ename": "",
          "evalue": "",
          "output_type": "error",
          "traceback": [
            "\u001b[1;31mThe Kernel crashed while executing code in the current cell or a previous cell. \n",
            "\u001b[1;31mPlease review the code in the cell(s) to identify a possible cause of the failure. \n",
            "\u001b[1;31mClick <a href='https://aka.ms/vscodeJupyterKernelCrash'>here</a> for more info. \n",
            "\u001b[1;31mView Jupyter <a href='command:jupyter.viewOutput'>log</a> for further details."
          ]
        }
      ],
      "source": [
        "fl.server.start_server(\n",
        "    server_address=\"0.0.0.0:8000\",\n",
        "    config=fl.server.ServerConfig(num_rounds=10),\n",
        "    server=server,\n",
        ")"
      ]
    }
  ],
  "metadata": {
    "kernelspec": {
      "display_name": "3.11.9",
      "language": "python",
      "name": "python3"
    },
    "language_info": {
      "codemirror_mode": {
        "name": "ipython",
        "version": 3
      },
      "file_extension": ".py",
      "mimetype": "text/x-python",
      "name": "python",
      "nbconvert_exporter": "python",
      "pygments_lexer": "ipython3",
      "version": "3.11.9"
    }
  },
  "nbformat": 4,
  "nbformat_minor": 2
}
