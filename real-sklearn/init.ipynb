{
 "cells": [
  {
   "cell_type": "code",
   "execution_count": null,
   "metadata": {},
   "outputs": [],
   "source": [
    "%pip install flwr opendatasets"
   ]
  },
  {
   "cell_type": "code",
   "execution_count": 4,
   "metadata": {},
   "outputs": [
    {
     "name": "stdout",
     "output_type": "stream",
     "text": [
      "Please provide your Kaggle credentials to download this dataset. Learn more: http://bit.ly/kaggle-creds\n",
      "Your Kaggle username:Your Kaggle Key:Dataset URL: https://www.kaggle.com/datasets/fedesoriano/stroke-prediction-dataset\n",
      "Downloading stroke-prediction-dataset.zip to .\\stroke-prediction-dataset\n"
     ]
    },
    {
     "name": "stderr",
     "output_type": "stream",
     "text": [
      "100%|██████████| 67.4k/67.4k [00:00<00:00, 301kB/s]"
     ]
    },
    {
     "name": "stdout",
     "output_type": "stream",
     "text": [
      "\n"
     ]
    },
    {
     "name": "stderr",
     "output_type": "stream",
     "text": [
      "\n"
     ]
    }
   ],
   "source": [
    "import opendatasets as od\n",
    "\n",
    "od.download(\"https://www.kaggle.com/fedesoriano/stroke-prediction-dataset\")"
   ]
  },
  {
   "cell_type": "code",
   "execution_count": 2,
   "metadata": {},
   "outputs": [],
   "source": [
    "# split the data to 4 parts\n",
    "import pandas as pd\n",
    "import numpy as np\n",
    "from sklearn.model_selection import train_test_split\n",
    "\n",
    "data = pd.read_csv(\"stroke-prediction-dataset/healthcare-dataset-stroke-data.csv\")\n",
    "data = data.dropna()\n",
    "data = data.drop(columns=[\"id\"])\n",
    "\n",
    "# shuffle the data\n",
    "data = data.sample(frac=1, random_state=42).reset_index(drop=True)\n",
    "\n",
    "X = data.drop(columns=[\"stroke\"])\n",
    "y = data[\"stroke\"]\n",
    "# split the data stratified\n",
    "X_1, X_, y_1, y_ = train_test_split(X, y, train_size=(0.25), stratify=y, random_state=42)\n",
    "\n",
    "X_2, X_, y_2, y_ = train_test_split(X_, y_, train_size=(0.3333), stratify=y_, random_state=42)\n",
    "\n",
    "X_3, X_4, y_3, y_4 = train_test_split(X_, y_, train_size=(0.5), stratify=y_, random_state=42)\n",
    "\n",
    "# combine X and y\n",
    "X_1[\"stroke\"] = y_1\n",
    "X_2[\"stroke\"] = y_2\n",
    "X_3[\"stroke\"] = y_3\n",
    "X_4[\"stroke\"] = y_4\n",
    "\n",
    "X_1.to_csv(\"stroke-prediction-dataset/healthcare-dataset-stroke-data-0.csv\", index=False)\n",
    "X_2.to_csv(\"stroke-prediction-dataset/healthcare-dataset-stroke-data-1.csv\", index=False)\n",
    "X_3.to_csv(\"stroke-prediction-dataset/healthcare-dataset-stroke-data-2.csv\", index=False)\n",
    "X_4.to_csv(\"stroke-prediction-dataset/healthcare-dataset-stroke-data-3.csv\", index=False)\n",
    "\n",
    "\n"
   ]
  }
 ],
 "metadata": {
  "kernelspec": {
   "display_name": "3.11.9",
   "language": "python",
   "name": "python3"
  },
  "language_info": {
   "codemirror_mode": {
    "name": "ipython",
    "version": 3
   },
   "file_extension": ".py",
   "mimetype": "text/x-python",
   "name": "python",
   "nbconvert_exporter": "python",
   "pygments_lexer": "ipython3",
   "version": "3.11.9"
  }
 },
 "nbformat": 4,
 "nbformat_minor": 2
}
